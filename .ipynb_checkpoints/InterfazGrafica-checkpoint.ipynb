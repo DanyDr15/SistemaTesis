{
 "cells": [
  {
   "cell_type": "code",
   "execution_count": 122,
   "metadata": {},
   "outputs": [],
   "source": [
    "from tkinter import *"
   ]
  },
  {
   "cell_type": "code",
   "execution_count": 123,
   "metadata": {},
   "outputs": [
    {
     "data": {
      "text/plain": [
       "''"
      ]
     },
     "execution_count": 123,
     "metadata": {},
     "output_type": "execute_result"
    }
   ],
   "source": [
    "raiz=Tk()\n",
    "raiz.title(\"Interfaz de usuario\")\n",
    "#raiz.geometry(\"650x350\")"
   ]
  },
  {
   "cell_type": "code",
   "execution_count": 124,
   "metadata": {},
   "outputs": [],
   "source": [
    "miFrame=Frame(raiz, width=700, height=500)\n",
    "miFrame.pack()"
   ]
  },
  {
   "cell_type": "code",
   "execution_count": 125,
   "metadata": {},
   "outputs": [],
   "source": [
    "Label(miFrame, text=\"Analisis de sentimientos\",font=(18)).grid(row=0, column=2)\n",
    "botonNaive=Button(miFrame, text=\"Naive Bayes\").grid(row=1, column=0)\n",
    "botonTree=Button(miFrame, text=\"Decision Tree\").grid(row=2, column=0)\n",
    "botonKnn=Button(miFrame, text=\"KNN\").grid(row=3, column=0)\n",
    "botonRegresion=Button(miFrame, text=\"Regresion\").grid(row=4, column=0)\n",
    "botonSvm=Button(miFrame, text=\"SVM\").grid(row=5, column=0)"
   ]
  },
  {
   "cell_type": "code",
   "execution_count": 126,
   "metadata": {},
   "outputs": [],
   "source": [
    "raiz.mainloop()"
   ]
  },
  {
   "cell_type": "code",
   "execution_count": null,
   "metadata": {},
   "outputs": [],
   "source": []
  }
 ],
 "metadata": {
  "kernelspec": {
   "display_name": "Python 3",
   "language": "python",
   "name": "python3"
  },
  "language_info": {
   "codemirror_mode": {
    "name": "ipython",
    "version": 3
   },
   "file_extension": ".py",
   "mimetype": "text/x-python",
   "name": "python",
   "nbconvert_exporter": "python",
   "pygments_lexer": "ipython3",
   "version": "3.8.3"
  }
 },
 "nbformat": 4,
 "nbformat_minor": 4
}
