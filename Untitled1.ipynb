{
 "cells": [
  {
   "cell_type": "code",
   "execution_count": 6,
   "metadata": {},
   "outputs": [],
   "source": [
    "import speech_recognition as sr\n",
    "import time"
   ]
  },
  {
   "cell_type": "code",
   "execution_count": 7,
   "metadata": {},
   "outputs": [],
   "source": [
    "r=sr.Recognizer()"
   ]
  },
  {
   "cell_type": "code",
   "execution_count": 8,
   "metadata": {},
   "outputs": [
    {
     "name": "stdout",
     "output_type": "stream",
     "text": [
      "Reading audio file. Please, wait a moment...\n",
      "I am sorry! I can not understand\n"
     ]
    }
   ],
   "source": [
    "with sr.AudioFile('C:\\\\Users\\\\LENOVO\\\\Documents\\\\Sistema\\\\tatoo.wav') as source:\n",
    "    audio= r.listen(source)\n",
    "    \n",
    "    try:\n",
    "        print(\"Reading audio file. Please, wait a moment...\")\n",
    "        text = r.reconize_google(audio, languaje='es-ES')\n",
    "        time.sleep(0.5)\n",
    "        print(text)\n",
    "        \n",
    "    except:\n",
    "        print(\"I am sorry! I can not understand\")"
   ]
  },
  {
   "cell_type": "code",
   "execution_count": null,
   "metadata": {},
   "outputs": [],
   "source": []
  }
 ],
 "metadata": {
  "kernelspec": {
   "display_name": "Python 3",
   "language": "python",
   "name": "python3"
  },
  "language_info": {
   "codemirror_mode": {
    "name": "ipython",
    "version": 3
   },
   "file_extension": ".py",
   "mimetype": "text/x-python",
   "name": "python",
   "nbconvert_exporter": "python",
   "pygments_lexer": "ipython3",
   "version": "3.8.3"
  }
 },
 "nbformat": 4,
 "nbformat_minor": 4
}
