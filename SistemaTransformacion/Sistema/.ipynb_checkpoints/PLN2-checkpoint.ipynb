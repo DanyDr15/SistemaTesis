{
 "cells": [
  {
   "cell_type": "code",
   "execution_count": 38,
   "metadata": {},
   "outputs": [
    {
     "ename": "ImportError",
     "evalue": "cannot import name 'KMeansClassifier' from 'textblob.classifiers' (C:\\Users\\LENOVO\\anaconda3\\lib\\site-packages\\textblob\\classifiers.py)",
     "output_type": "error",
     "traceback": [
      "\u001b[1;31m---------------------------------------------------------------------------\u001b[0m",
      "\u001b[1;31mImportError\u001b[0m                               Traceback (most recent call last)",
      "\u001b[1;32m<ipython-input-38-f88d8fd21cdd>\u001b[0m in \u001b[0;36m<module>\u001b[1;34m\u001b[0m\n\u001b[1;32m----> 1\u001b[1;33m \u001b[1;32mfrom\u001b[0m \u001b[0mtextblob\u001b[0m\u001b[1;33m.\u001b[0m\u001b[0mclassifiers\u001b[0m \u001b[1;32mimport\u001b[0m \u001b[0mKMeansClassifier\u001b[0m\u001b[1;33m\u001b[0m\u001b[1;33m\u001b[0m\u001b[0m\n\u001b[0m",
      "\u001b[1;31mImportError\u001b[0m: cannot import name 'KMeansClassifier' from 'textblob.classifiers' (C:\\Users\\LENOVO\\anaconda3\\lib\\site-packages\\textblob\\classifiers.py)"
     ]
    }
   ],
   "source": [
    "from textblob.classifiers import KMeansClassifier"
   ]
  },
  {
   "cell_type": "code",
   "execution_count": 32,
   "metadata": {},
   "outputs": [
    {
     "data": {
      "text/plain": [
       "'\\n*GaussianNB\\nNaiveBayesClassifier\\nDecisionTreeClassifier\\n\\nProfesor encontre esta libreria, que internamente ya usa NLTK, y cuenta con su propio\\nclasificador bayesiano, al cual se le pasa como argumento los datos con sus respectivas etiquetas\\nen este caso (si hay sexismo, o no hay sexismo) e internamente ya clasifica, me parece una mejor\\nsolucion que los otros dos ejemplos\\n'"
      ]
     },
     "execution_count": 32,
     "metadata": {},
     "output_type": "execute_result"
    }
   ],
   "source": [
    "\"\"\"\n",
    "*GaussianNB\n",
    "NaiveBayesClassifier\n",
    "DecisionTreeClassifier\n",
    "\n",
    "Profesor encontre esta libreria, que internamente ya usa NLTK, y cuenta con su propio\n",
    "clasificador bayesiano, al cual se le pasa como argumento los datos con sus respectivas etiquetas\n",
    "en este caso (si hay sexismo, o no hay sexismo) e internamente ya clasifica, me parece una mejor\n",
    "solucion que los otros dos ejemplos\n",
    "\"\"\""
   ]
  },
  {
   "cell_type": "code",
   "execution_count": 34,
   "metadata": {},
   "outputs": [
    {
     "name": "stdout",
     "output_type": "stream",
     "text": [
      "no hay sexismo\n",
      "sexismo\n",
      "sexismo\n",
      "sexismo\n",
      "no hay sexismo\n",
      "no hay sexismo\n"
     ]
    }
   ],
   "source": [
    "with open('datossp.json','r') as fp:\n",
    "    #entrenamiento\n",
    "    cl=DecisionTreeClassifier(fp, formt=\"json\")\n",
    "    \n",
    "print(cl.classify(\"Ella cocina muy bien\"))\n",
    "print(cl.classify(\"Le faltan neuronas porque a la rubia\"))\n",
    "print(cl.classify(\"Eres hombre portate como tal\"))\n",
    "print(cl.classify(\"No tengo trabajo por el maldito patriarcado\"))\n",
    "print(cl.classify(\"Fue muy bonito pasar contigo\"))\n",
    "print(cl.classify(\"Ese plato está muy caliente\"))\n",
    "\n",
    "\n"
   ]
  },
  {
   "cell_type": "code",
   "execution_count": 35,
   "metadata": {},
   "outputs": [
    {
     "data": {
      "text/plain": [
       "0.144"
      ]
     },
     "execution_count": 35,
     "metadata": {},
     "output_type": "execute_result"
    }
   ],
   "source": [
    "round(prob_dist.prob(\"sexismo\"), 3)\n"
   ]
  },
  {
   "cell_type": "code",
   "execution_count": 36,
   "metadata": {},
   "outputs": [
    {
     "data": {
      "text/plain": [
       "0.86"
      ]
     },
     "execution_count": 36,
     "metadata": {},
     "output_type": "execute_result"
    }
   ],
   "source": [
    "round(prob_dist.prob(\"no hay sexismo\"), 2)"
   ]
  },
  {
   "cell_type": "code",
   "execution_count": null,
   "metadata": {},
   "outputs": [],
   "source": []
  }
 ],
 "metadata": {
  "kernelspec": {
   "display_name": "Python 3",
   "language": "python",
   "name": "python3"
  },
  "language_info": {
   "codemirror_mode": {
    "name": "ipython",
    "version": 3
   },
   "file_extension": ".py",
   "mimetype": "text/x-python",
   "name": "python",
   "nbconvert_exporter": "python",
   "pygments_lexer": "ipython3",
   "version": "3.8.3"
  }
 },
 "nbformat": 4,
 "nbformat_minor": 4
}
