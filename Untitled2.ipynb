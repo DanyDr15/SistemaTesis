{
 "cells": [
  {
   "cell_type": "code",
   "execution_count": 2,
   "metadata": {},
   "outputs": [],
   "source": [
    "import numpy as np\n",
    "import pandas as pd"
   ]
  },
  {
   "cell_type": "code",
   "execution_count": 4,
   "metadata": {},
   "outputs": [
    {
     "name": "stdout",
     "output_type": "stream",
     "text": [
      "['Pifor', 'tecnologias', 'es', 'un', 'sofware', 'muy', 'bueno', '.', 'Todo', 'esto', 'es', 'gracias', 'al', 'esfuerzo', 'de', 'todos', '.']\n"
     ]
    }
   ],
   "source": [
    "import nltk\n",
    "\n",
    "#dividir la oración en palabras\n",
    "from nltk import word_tokenize\n",
    "\n",
    "data = \"Facebook es una herramienta de comunicación muy bueno. Todo esto es gracias al esfuerzo de todos.\"\n",
    "print(word_tokenize(data))"
   ]
  },
  {
   "cell_type": "code",
   "execution_count": 6,
   "metadata": {},
   "outputs": [
    {
     "name": "stdout",
     "output_type": "stream",
     "text": [
      "{'tuviésemos', 'estuviéramos', 'fuese', 'del', 'les', 'hayan', 'hay', 'contra', 'antes', 'fuéramos', 'fuesen', 'habiendo', 'estuvo', 'estaban', 'fueras', 'seríais', 'estuvisteis', 'te', 'hubieran', 'estaba', 'más', 'estaremos', 'serías', 'estoy', 'unos', 'estadas', 'con', 'hubieron', 'a', 'sintiendo', 'tendríamos', 'estados', 'tuviste', 'para', 'estaréis', 'tuviéramos', 'hayas', 'esta', 'estáis', 'tuvisteis', 'le', 'tuyas', 'ellos', 'sentidos', 'tuyo', 'habrá', 'habéis', 'eran', 'habidas', 'vuestros', 'fuésemos', 'tuvierais', 'fuerais', 'hubieras', 'tuvieses', 'él', 'esa', 'tuve', 'estuve', 'la', 'vuestras', 'lo', 'estábamos', 'estando', 'habrán', 'has', 'cuando', 'estés', 'tuviese', 'habré', 'uno', 'estuvieras', 'están', 'y', 'os', 'he', 'tienen', 'estarás', 'tus', 'hubimos', 'está', 'estuvieron', 'estén', 'tengáis', 'suyos', 'tengo', 'tendríais', 'nos', 'tenían', 'sobre', 'tuvieras', 'tenidas', 'estás', 'durante', 'mí', 'estuviste', 'algunos', 'erais', 'e', 'otras', 'tienes', 'desde', 'hayamos', 'seáis', 'nuestras', 'nosotros', 'teníais', 'todos', 'tened', 'estuvimos', 'seré', 'algo', 'hubierais', 'los', 'como', 'fueseis', 'haya', 'poco', 'en', 'estuvieran', 'ha', 'fuiste', 'tenida', 'habíamos', 'seamos', 'sentidas', 'habíais', 'tuvimos', 'habían', 'estuvieses', 'nosotras', 'fuimos', 'por', 'somos', 'estada', 'tanto', 'estuviera', 'estado', 'su', 'estos', 'míos', 'no', 'pero', 'esto', 'seas', 'era', 'ellas', 'tenga', 'tendrá', 'sentida', 'vosotros', 'esté', 'tuvieron', 'estuviesen', 'el', 'sería', 'hubisteis', 'mías', 'estarían', 'estaríais', 'mío', 'seremos', 'se', 'ese', 'cual', 'nuestra', 'sus', 'tengamos', 'nuestro', 'ni', 'mucho', 'tendréis', 'estar', 'estaríamos', 'ya', 'tenías', 'habidos', 'habrían', 'tuya', 'habremos', 'suyo', 'estaré', 'otros', 'estaría', 'hayáis', 'tenidos', 'hasta', 'habrás', 'tuviera', 'quienes', 'ti', 'habido', 'hubieses', 'que', 'nuestros', 'fui', 'estarías', 'nada', 'también', 'porque', 'habríamos', 'seríamos', 'estuviésemos', 'hubiéramos', 'siente', 'todo', 'tuvieseis', 'me', 'tenéis', 'fue', 'tendrían', 'vuestro', 'estéis', 'sea', 'hubiste', 'hubiesen', 'estabas', 'tendría', 'éramos', 'serán', 'fueran', 'hubiera', 'seréis', 'tengan', 'habríais', 'mi', 'sean', 'había', 'algunas', 'tenido', 'donde', 'esas', 'suyas', 'tendrías', 'estarán', 'vuestra', 'teniendo', 'son', 'fuera', 'tiene', 'eras', 'fueses', 'otro', 'un', 'estuvierais', 'qué', 'ella', 'yo', 'ante', 'tuyos', 'hemos', 'tuviesen', 'las', 'estabais', 'mis', 'habida', 'fuisteis', 'hubiésemos', 'habías', 'este', 'mía', 'tenemos', 'tuvo', 'será', 'tenía', 'hube', 'o', 'estuvieseis', 'tu', 'hubieseis', 'teníamos', 'sí', 'una', 'muy', 'suya', 'vosotras', 'tendrás', 'tú', 'entre', 'tendremos', 'estas', 'fueron', 'tengas', 'muchos', 'tuvieran', 'estemos', 'estamos', 'sois', 'serás', 'tendré', 'eso', 'sentid', 'eres', 'esos', 'tendrán', 'de', 'habrías', 'es', 'habría', 'al', 'estuviese', 'habréis', 'otra', 'serían', 'estad', 'hubo', 'estará', 'hubiese', 'soy', 'sin', 'quien', 'sentido', 'han'}\n"
     ]
    }
   ],
   "source": [
    "#Se realia el procesamiento de lenguaje natural\n",
    "# y se borra palabras innecesarias como a, es, un,\n",
    "from nltk.corpus import stopwords\n",
    "\n",
    "stopWords= set(stopwords.words('spanish'))\n",
    "print(stopWords)"
   ]
  },
  {
   "cell_type": "code",
   "execution_count": 8,
   "metadata": {},
   "outputs": [
    {
     "name": "stdout",
     "output_type": "stream",
     "text": [
      "['F', 'a', 'c', 'e', 'b', 'o', 'o', 'k', ' ', 'e', 's', ' ', 'u', 'n', 'a', ' ', 't', 'e', 'c', 'n', 'o', 'l', 'o', 'g', 'í', 'a', ' ', 'F', 'a', 'c', 'e', 'b', 'o', 'o', 'k', ' ', 'e', 's', ' ', 'g', 'e', 'n', 'i', 'a', 'l', ' ']\n"
     ]
    }
   ],
   "source": [
    "#el modulo string nos permite eliminar signos de puntuacion \n",
    "import string \n",
    "data = \"Facebook es una tecnología, Facebook es genial !.\"\n",
    "data_1=[char for char in data if char not in string.punctuation]\n",
    "print(data_1)"
   ]
  },
  {
   "cell_type": "code",
   "execution_count": 9,
   "metadata": {},
   "outputs": [
    {
     "name": "stdout",
     "output_type": "stream",
     "text": [
      "Facebook es una tecnología Facebook es genial \n"
     ]
    }
   ],
   "source": [
    "#aqui formulamos de nuevo la horacion sin los signos de puntuación\n",
    "data_1= ''.join(data_1)\n",
    "print(data_1)"
   ]
  },
  {
   "cell_type": "code",
   "execution_count": 10,
   "metadata": {},
   "outputs": [
    {
     "name": "stdout",
     "output_type": "stream",
     "text": [
      "['Facebook', 'es', 'una', 'tecnología', 'Facebook', 'es', 'genial']\n"
     ]
    }
   ],
   "source": [
    "data_1=data_1.split()\n",
    "print(data_1)"
   ]
  },
  {
   "cell_type": "code",
   "execution_count": 11,
   "metadata": {},
   "outputs": [
    {
     "name": "stdout",
     "output_type": "stream",
     "text": [
      "{'facebook': 1, 'es': 0, 'una': 4, 'tecnología': 3, 'genial': 2}\n"
     ]
    }
   ],
   "source": [
    "#vectorizador de conteo\n",
    "from sklearn.feature_extraction.text import CountVectorizer\n",
    "data_1 = [\"Facebook es una tecnología Facebook es genial\"]\n",
    "\n",
    "vectorizer = CountVectorizer()\n",
    "\n",
    "vectorizer.fit(data_1)\n",
    "\n",
    "print(vectorizer.vocabulary_)"
   ]
  },
  {
   "cell_type": "code",
   "execution_count": null,
   "metadata": {},
   "outputs": [],
   "source": []
  }
 ],
 "metadata": {
  "kernelspec": {
   "display_name": "Python 3 (ipykernel)",
   "language": "python",
   "name": "python3"
  },
  "language_info": {
   "codemirror_mode": {
    "name": "ipython",
    "version": 3
   },
   "file_extension": ".py",
   "mimetype": "text/x-python",
   "name": "python",
   "nbconvert_exporter": "python",
   "pygments_lexer": "ipython3",
   "version": "3.8.3"
  }
 },
 "nbformat": 4,
 "nbformat_minor": 4
}
